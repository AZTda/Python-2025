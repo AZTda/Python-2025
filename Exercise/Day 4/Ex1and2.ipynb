{
 "cells": [
  {
   "cell_type": "markdown",
   "id": "3e02ac2a",
   "metadata": {},
   "source": [
    "# Exercise 1 & 2: Testing and Documenting Code\n",
    "\n",
    "## 1. Testing code with pytest\n",
    "### a. Installing pytest\n",
    "You can install pytest using the following command:"
   ]
  },
  {
   "cell_type": "code",
   "execution_count": 1,
   "id": "e9d100de",
   "metadata": {},
   "outputs": [
    {
     "name": "stdout",
     "output_type": "stream",
     "text": [
      "Requirement already satisfied: pytest in c:\\users\\dietr188\\appdata\\local\\anaconda3\\lib\\site-packages (7.4.0)\n",
      "Requirement already satisfied: iniconfig in c:\\users\\dietr188\\appdata\\local\\anaconda3\\lib\\site-packages (from pytest) (1.1.1)\n",
      "Requirement already satisfied: packaging in c:\\users\\dietr188\\appdata\\local\\anaconda3\\lib\\site-packages (from pytest) (23.1)\n",
      "Requirement already satisfied: pluggy<2.0,>=0.12 in c:\\users\\dietr188\\appdata\\local\\anaconda3\\lib\\site-packages (from pytest) (1.0.0)\n",
      "Requirement already satisfied: colorama in c:\\users\\dietr188\\appdata\\local\\anaconda3\\lib\\site-packages (from pytest) (0.4.6)\n"
     ]
    }
   ],
   "source": [
    "!pip install pytest --user"
   ]
  },
  {
   "cell_type": "markdown",
   "id": "f51980b6",
   "metadata": {},
   "source": [
    "### b. Writing tests for simple_math.py\n",
    "Create a file named `test_simple_math.py` and add the following content:"
   ]
  },
  {
   "cell_type": "code",
   "execution_count": 2,
   "id": "37ee3867",
   "metadata": {},
   "outputs": [],
   "source": [
    "# test_simple_math.py\n",
    "import pytest\n",
    "from simple_math import add, subtract, multiply, divide\n",
    "\n",
    "def test_add():\n",
    "    assert add(2, 3) == 5\n",
    "    assert add(-1, 1) == 0\n",
    "\n",
    "def test_subtract():\n",
    "    assert subtract(5, 3) == 2\n",
    "    assert subtract(0, 4) == -4\n",
    "\n",
    "def test_multiply():\n",
    "    assert multiply(2, 3) == 6\n",
    "    assert multiply(-1, -1) == 1\n",
    "\n",
    "def test_divide():\n",
    "    assert divide(6, 3) == 2\n",
    "    with pytest.raises(ZeroDivisionError):\n",
    "        divide(1, 0)\n"
   ]
  },
  {
   "cell_type": "code",
   "execution_count": 7,
   "id": "4a6b775a-4468-4d94-95a0-461783decee7",
   "metadata": {},
   "outputs": [
    {
     "name": "stdout",
     "output_type": "stream",
     "text": [
      "\u001b[1m============================= test session starts =============================\u001b[0m\n",
      "platform win32 -- Python 3.11.7, pytest-7.4.0, pluggy-1.0.0\n",
      "rootdir: C:\\Users\\dietr188\\Desktop\\Python-2025\\Exercise\\Day 4\n",
      "plugins: anyio-4.2.0\n",
      "collected 4 items\n",
      "\n",
      "test_simple_math.py \u001b[32m.\u001b[0m\u001b[32m.\u001b[0m\u001b[32m.\u001b[0m\u001b[32m.\u001b[0m\u001b[32m                                                 [100%]\u001b[0m\n",
      "\n",
      "\u001b[32m============================== \u001b[32m\u001b[1m4 passed\u001b[0m\u001b[32m in 0.01s\u001b[0m\u001b[32m ==============================\u001b[0m\n"
     ]
    }
   ],
   "source": [
    "!pytest test_simple_math.py"
   ]
  },
  {
   "cell_type": "markdown",
   "id": "a58493cc",
   "metadata": {},
   "source": [
    "## 2. Documenting code\n",
    "### a. Adding NumPy-style docstrings\n",
    "Update the `simple_math.py` file as follows:"
   ]
  },
  {
   "cell_type": "code",
   "execution_count": 6,
   "id": "3969e66e",
   "metadata": {},
   "outputs": [],
   "source": [
    "# simple_math.py\n",
    "def add(a, b):\n",
    "    \"\"\" \n",
    "    Add two numbers.\n",
    "    \n",
    "    Parameters\n",
    "    ----------\n",
    "    a : float\n",
    "        First number.\n",
    "    b : float\n",
    "        Second number.\n",
    "\n",
    "    Returns\n",
    "    -------\n",
    "    float\n",
    "        Sum of a and b.\n",
    "    \"\"\"\n",
    "    return a + b\n",
    "\n",
    "def subtract(a, b):\n",
    "    \"\"\" \n",
    "    Subtract two numbers.\n",
    "    \n",
    "    Parameters\n",
    "    ----------\n",
    "    a : float\n",
    "        First number.\n",
    "    b : float\n",
    "        Second number.\n",
    "\n",
    "    Returns\n",
    "    -------\n",
    "    float\n",
    "        Difference of a and b.\n",
    "    \"\"\"\n",
    "    return a - b\n",
    "\n",
    "def multiply(a, b):\n",
    "    \"\"\" \n",
    "    Multiply two numbers.\n",
    "    \n",
    "    Parameters\n",
    "    ----------\n",
    "    a : float\n",
    "        First number.\n",
    "    b : float\n",
    "        Second number.\n",
    "\n",
    "    Returns\n",
    "    -------\n",
    "    float\n",
    "        Product of a and b.\n",
    "    \"\"\"\n",
    "    return a * b\n",
    "\n",
    "def divide(a, b):\n",
    "    \"\"\" \n",
    "    Divide two numbers.\n",
    "    \n",
    "    Parameters\n",
    "    ----------\n",
    "    a : float\n",
    "        First number.\n",
    "    b : float\n",
    "        Second number.\n",
    "\n",
    "    Returns\n",
    "    -------\n",
    "    float\n",
    "        Quotient of a and b.\n",
    "\n",
    "    Raises\n",
    "    ------\n",
    "    ZeroDivisionError\n",
    "        If b is zero.\n",
    "    \"\"\"\n",
    "    if b == 0:\n",
    "        raise ZeroDivisionError(\"Cannot divide by zero\")\n",
    "    return a / b\n"
   ]
  },
  {
   "cell_type": "code",
   "execution_count": null,
   "id": "09899758-4421-4e3f-b02b-03e3afb27ab2",
   "metadata": {},
   "outputs": [],
   "source": []
  },
  {
   "cell_type": "markdown",
   "id": "1569c242",
   "metadata": {},
   "source": [
    "### b. Generating HTML documentation using Sphinx\n",
    "Follow these steps:\n",
    "1. Install Sphinx: `pip install sphinx`\n",
    "2. Run `sphinx-quickstart` to create the documentation structure.\n",
    "3. Add `simple_math.py` to Sphinx by modifying `conf.py`.\n",
    "4. Run `make html` to generate the documentation in HTML format."
   ]
  },
  {
   "cell_type": "code",
   "execution_count": null,
   "id": "9e2962be-feff-4099-838f-5e255fd2a1a8",
   "metadata": {},
   "outputs": [],
   "source": [
    "import sphinx"
   ]
  },
  {
   "cell_type": "code",
   "execution_count": null,
   "id": "2d5bb722-fbc8-4fb6-9375-05356758af9b",
   "metadata": {},
   "outputs": [],
   "source": [
    "mkdir docs"
   ]
  },
  {
   "cell_type": "code",
   "execution_count": null,
   "id": "91dd5bd7-b333-4400-a614-c904e5db028d",
   "metadata": {},
   "outputs": [],
   "source": []
  }
 ],
 "metadata": {
  "kernelspec": {
   "display_name": "Python 3 (ipykernel)",
   "language": "python",
   "name": "python3"
  },
  "language_info": {
   "codemirror_mode": {
    "name": "ipython",
    "version": 3
   },
   "file_extension": ".py",
   "mimetype": "text/x-python",
   "name": "python",
   "nbconvert_exporter": "python",
   "pygments_lexer": "ipython3",
   "version": "3.11.7"
  }
 },
 "nbformat": 4,
 "nbformat_minor": 5
}
