{
 "cells": [
  {
   "cell_type": "code",
   "execution_count": null,
   "id": "38e092b5",
   "metadata": {},
   "outputs": [],
   "source": [
    "import numpy as np\n",
    "import matplotlib.pyplot as plt"
   ]
  },
  {
   "cell_type": "code",
   "execution_count": null,
   "id": "3182d231",
   "metadata": {},
   "outputs": [],
   "source": [
    "# Generate synthetic 3D point cloud data\n",
    "np.random.seed(42)\n",
    "x = np.random.uniform(0, 100, 500)\n",
    "y = np.random.uniform(0, 100, 500)\n",
    "z = np.sin(x / 10) * np.cos(y / 10) * 50 + np.random.normal(0, 5, 500)  # Adding noise"
   ]
  },
  {
   "cell_type": "code",
   "execution_count": null,
   "id": "e307c0e1",
   "metadata": {},
   "outputs": [],
   "source": [
    "# Create a visually appealing 3D scatter plot\n",
    "fig = plt.figure(figsize=(10, 7))\n",
    "ax = fig.add_subplot(111, projection='3d')\n",
    "\n",
    "# Use a colormap to enhance visualization\n",
    "sc = ax.scatter(x, y, z, c=z, cmap='viridis', marker='o', edgecolors='k', alpha=0.8)\n",
    "\n",
    "# Labels and title\n",
    "ax.set_xlabel('X Coordinate')\n",
    "ax.set_ylabel('Y Coordinate')\n",
    "ax.set_zlabel('Height (Z)')\n",
    "ax.set_title('3D Point Cloud with Synthetic Data')\n",
    "\n",
    "# Colorbar to show height mapping\n",
    "cbar = plt.colorbar(sc, ax=ax, shrink=0.6, aspect=10)\n",
    "cbar.set_label('Height Intensity')\n",
    "\n",
    "# Show the plot\n",
    "plt.show()"
   ]
  }
 ],
 "metadata": {},
 "nbformat": 4,
 "nbformat_minor": 5
}
