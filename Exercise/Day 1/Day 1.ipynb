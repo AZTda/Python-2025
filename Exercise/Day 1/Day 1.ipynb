{
 "cells": [
  {
   "cell_type": "markdown",
   "id": "956309ab",
   "metadata": {},
   "source": [
    "# Interactive Python using Jupyter Notebooks\n",
    "- Notebooks consist of a sequence of cells\n",
    "- Cells can contain different types of content such as Python code or Markdown\n",
    "- You can change the cell type in the toolbar\n",
    "- To execute a cell, press \"Shift+Return\"\n",
    "- Use the toolbar to add, delete, copy, or insert cells\n",
    "\n",
    "(Note: To learn more about Markdown, visit [Daring Fireball's website](https://daringfireball.net/projects/markdown/syntax))"
   ]
  },
  {
   "cell_type": "code",
   "execution_count": 1,
   "id": "c9aba3bb",
   "metadata": {},
   "outputs": [],
   "source": [
    "import numpy as np\n",
    "import matplotlib.pyplot as plt"
   ]
  },
  {
   "cell_type": "markdown",
   "id": "fa5163a7",
   "metadata": {},
   "source": [
    "## Import the Python package for numerical arrays (numpy)"
   ]
  },
  {
   "cell_type": "code",
   "execution_count": 2,
   "id": "1fbbd6bf",
   "metadata": {},
   "outputs": [],
   "source": [
    "np.random.seed(42)\n",
    "positions = np.random.choice(['GK', 'D', 'M', 'A'], size=100, p=[0.1, 0.4, 0.3, 0.2])\n",
    "heights = np.random.normal(loc=180, scale=5, size=100)"
   ]
  },
  {
   "cell_type": "markdown",
   "id": "76401b82",
   "metadata": {},
   "source": [
    "## Define a function that creates some statistical data"
   ]
  },
  {
   "cell_type": "code",
   "execution_count": 5,
   "id": "05ef0f2d",
   "metadata": {},
   "outputs": [],
   "source": [
    "np_positions = np.array(positions)\n",
    "np_heights = np.array(heights)"
   ]
  },
  {
   "cell_type": "markdown",
   "id": "21f7c385",
   "metadata": {},
   "source": [
    "## Read the data\n",
    "The objects `positions` and `heights` are lists as we can check using the Python function `type`: "
   ]
  },
  {
   "cell_type": "code",
   "execution_count": 6,
   "id": "c3a1ac37",
   "metadata": {},
   "outputs": [
    {
     "name": "stdout",
     "output_type": "stream",
     "text": [
      "Data type of np_positions: <U2\n",
      "Data type of np_heights: float64\n",
      "Shape of np_positions: (100,)\n",
      "Shape of np_heights: (100,)\n"
     ]
    }
   ],
   "source": [
    "print(f\"Data type of np_positions: {np_positions.dtype}\")\n",
    "print(f\"Data type of np_heights: {np_heights.dtype}\")\n",
    "print(f\"Shape of np_positions: {np_positions.shape}\")\n",
    "print(f\"Shape of np_heights: {np_heights.shape}\")"
   ]
  },
  {
   "cell_type": "markdown",
   "id": "13cefc46",
   "metadata": {},
   "source": [
    "Question: *How many items are inside the lists `positions` and `heights`?*\n",
    "\n",
    "Hint: Use the Python function `len`."
   ]
  },
  {
   "cell_type": "markdown",
   "id": "a4db3812",
   "metadata": {},
   "source": [
    "## Convert to numpy arrays"
   ]
  },
  {
   "cell_type": "code",
   "execution_count": 7,
   "id": "bb5f2e4d",
   "metadata": {},
   "outputs": [],
   "source": [
    "gk_heights = p_heights[np_positions == 'GK']\n",
    "a_heights = p_heights[np_positions == 'A']\n",
    "d_heights = p_heights[np_positions == 'D']"
   ]
  },
  {
   "cell_type": "markdown",
   "id": "c494cb30",
   "metadata": {},
   "source": [
    "Question: *What is the data type of `np_positions` and `np_heights`?*<br>\n",
    "Question: *What is the shape of `np_positions` and `np_heights`?*\n",
    "\n",
    "Hint: Numpy objects have member functions called `dtype` and `shape`."
   ]
  },
  {
   "cell_type": "markdown",
   "id": "f62394b7",
   "metadata": {},
   "source": [
    "## Extract the heights of the goalkeepers"
   ]
  },
  {
   "cell_type": "markdown",
   "id": "167cbf70",
   "metadata": {},
   "source": [
    "## Print the median of the goalkeepers' heights"
   ]
  },
  {
   "cell_type": "code",
   "execution_count": 8,
   "id": "310c935d",
   "metadata": {},
   "outputs": [
    {
     "name": "stdout",
     "output_type": "stream",
     "text": [
      "Median height of goalkeepers: 182.02\n",
      "Median height of attackers: 180.42\n",
      "Median height of defenders: 180.37\n",
      "Median height of all players: 180.39\n"
     ]
    }
   ],
   "source": [
    "print(f\"Median height of goalkeepers: {np.median(gk_heights):.2f}\")\n",
    "print(f\"Median height of attackers: {np.median(a_heights):.2f}\")\n",
    "print(f\"Median height of defenders: {np.median(d_heights):.2f}\")\n",
    "print(f\"Median height of all players: {np.median(p_heights):.2f}\")"
   ]
  },
  {
   "cell_type": "markdown",
   "id": "aa00de37",
   "metadata": {},
   "source": [
    "Question: *What is the median height of all the field players?*<br>\n",
    "Question: *What is the median height of all the attackers?*<br>\n",
    "Question: *What is the median height of goalkeepers and the attackers combined?*"
   ]
  },
  {
   "cell_type": "markdown",
   "id": "f00ca173",
   "metadata": {},
   "source": [
    "## More statistical tests\n",
    "Besides the `median`, numpy also provides functions like `mean`, `std`, `min`, and `max` which are useful for analyzing statistical data."
   ]
  },
  {
   "cell_type": "code",
   "execution_count": 9,
   "id": "9b8f4f66",
   "metadata": {},
   "outputs": [
    {
     "name": "stdout",
     "output_type": "stream",
     "text": [
      "The shortest player is in position: M\n",
      "The tallest player is in position: GK\n"
     ]
    }
   ],
   "source": [
    "shortest_height = np.min(p_heights)\n",
    "tallest_height = np.max(p_heights)\n",
    "shortest_position = np_positions[np_heights == shortest_height][0]\n",
    "tallest_position = np_positions[np_heights == tallest_height][0]\n",
    "\n",
    "print(f\"The shortest player is in position: {shortest_position}\")\n",
    "print(f\"The tallest player is in position: {tallest_position}\")"
   ]
  },
  {
   "cell_type": "markdown",
   "id": "e9d27726",
   "metadata": {},
   "source": [
    "Question: *Who is the shortest player (which position)?*<br>\n",
    "Question: *Who is the tallest player (which position)?*"
   ]
  },
  {
   "cell_type": "markdown",
   "id": "edc189c0",
   "metadata": {},
   "source": [
    "## Data plotting\n",
    "For plotting, we need the package matplotlib."
   ]
  },
  {
   "cell_type": "markdown",
   "id": "d6edc1f3",
   "metadata": {},
   "source": [
    "There are different display modes for matplotlib plots inside a Jupyter Notebook."
   ]
  },
  {
   "cell_type": "markdown",
   "id": "e271683b",
   "metadata": {},
   "source": [
    "Let's visualize the height distribution of the defenders."
   ]
  },
  {
   "cell_type": "code",
   "execution_count": 10,
   "id": "354dd2dd",
   "metadata": {},
   "outputs": [
    {
     "data": {
      "image/png": "[encoded data removed]",
      "text/plain": [
       "<Figure size 800x500 with 1 Axes>"
      ]
     },
     "metadata": {},
     "output_type": "display_data"
    }
   ],
   "source": [
    "plt.figure(figsize=(8,5))\n",
    "plt.hist(d_heights, bins=10, edgecolor='black', alpha=0.7)\n",
    "plt.title(\"Height Distribution of Defenders\")\n",
    "plt.xlabel(\"Height (cm)\")\n",
    "plt.ylabel(\"Frequency\")\n",
    "plt.grid(axis='y', linestyle='--', alpha=0.7)\n",
    "plt.show()"
   ]
  },
  {
   "cell_type": "markdown",
   "id": "2b12a2ae",
   "metadata": {},
   "source": [
    "To figure out the tallest/shortest player, we can find the max/min within each position."
   ]
  },
  {
   "cell_type": "code",
   "execution_count": null,
   "id": "d7bc7ebd",
   "metadata": {},
   "outputs": [],
   "source": [
    "positions_unique = ['GK', 'D', 'M', 'A']\n",
    "max_heights = [np.max(p_heights[np_positions == pos]) for pos in positions_unique]\n",
    "\n",
    "plt.figure(figsize=(8,5))\n",
    "plt.bar(positions_unique, max_heights, color=['blue', 'green', 'orange', 'red'])\n",
    "plt.title(\"Maximum Heights by Position\")\n",
    "plt.xlabel(\"Position\")\n",
    "plt.ylabel(\"Height (cm)\")\n",
    "plt.show()"
   ]
  },
  {
   "cell_type": "markdown",
   "id": "238f3e98",
   "metadata": {},
   "source": [
    "For inspiration on data plotting and more examples, check out the matplotlib gallery: [https://matplotlib.org/gallery.html](https://matplotlib.org/gallery.html)"
   ]
  }
 ],
 "metadata": {
  "kernelspec": {
   "display_name": "Python 3 (ipykernel)",
   "language": "python",
   "name": "python3"
  },
  "language_info": {
   "codemirror_mode": {
    "name": "ipython",
    "version": 3
   },
   "file_extension": ".py",
   "mimetype": "text/x-python",
   "name": "python",
   "nbconvert_exporter": "python",
   "pygments_lexer": "ipython3",
   "version": "3.11.7"
  }
 },
 "nbformat": 4,
 "nbformat_minor": 5
}
