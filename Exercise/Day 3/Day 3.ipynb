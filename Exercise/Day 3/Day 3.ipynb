{
 "cells": [
  {
   "cell_type": "markdown",
   "id": "e753ddb3",
   "metadata": {},
   "source": [
    "# 1. Examples on classes and inheritance in Python"
   ]
  },
  {
   "cell_type": "code",
   "execution_count": 1,
   "id": "06edec1e",
   "metadata": {},
   "outputs": [
    {
     "name": "stdout",
     "output_type": "stream",
     "text": [
      "Benedikt Daurer, physics\n",
      "John Smith, teaches Python programming\n"
     ]
    }
   ],
   "source": [
    "\n",
    "class Person:\n",
    "    def __init__(self, firstname, lastname):\n",
    "        self.firstname = firstname\n",
    "        self.lastname = lastname\n",
    "    \n",
    "    def full_name(self):\n",
    "        return f\"{self.firstname} {self.lastname}\"\n",
    "\n",
    "class Student(Person):\n",
    "    def __init__(self, firstname, lastname, subject):\n",
    "        super().__init__(firstname, lastname)\n",
    "        self.subject = subject\n",
    "    \n",
    "    def printNameSubject(self):\n",
    "        print(f\"{self.full_name()}, {self.subject}\")\n",
    "\n",
    "class Teacher(Person):\n",
    "    def __init__(self, firstname, lastname, course):\n",
    "        super().__init__(firstname, lastname)\n",
    "        self.course = course\n",
    "    \n",
    "    def printNameCourse(self):\n",
    "        print(f\"{self.full_name()}, teaches {self.course}\")\n",
    "\n",
    "# Example usage\n",
    "me = Student('Benedikt', 'Daurer', 'physics')\n",
    "me.printNameSubject()\n",
    "\n",
    "teacher = Teacher('John', 'Smith', 'Python programming')\n",
    "teacher.printNameCourse()\n"
   ]
  },
  {
   "cell_type": "markdown",
   "id": "9e580077",
   "metadata": {},
   "source": [
    "# 2. Numpy exercises"
   ]
  },
  {
   "cell_type": "code",
   "execution_count": 2,
   "id": "d6f797a7",
   "metadata": {},
   "outputs": [
    {
     "name": "stdout",
     "output_type": "stream",
     "text": [
      "a: [0. 0. 0. 0. 1. 0. 0. 0. 0. 0.]\n",
      "b: [10 11 12 13 14 15 16 17 18 19 20 21 22 23 24 25 26 27 28 29 30 31 32 33\n",
      " 34 35 36 37 38 39 40 41 42 43 44 45 46 47 48 49]\n",
      "c (reversed b): [49 48 47 46 45 44 43 42 41 40 39 38 37 36 35 34 33 32 31 30 29 28 27 26\n",
      " 25 24 23 22 21 20 19 18 17 16 15 14 13 12 11 10]\n",
      "d: [[0 1 2]\n",
      " [3 4 5]\n",
      " [6 7 8]]\n",
      "e (indices of non-zero elements): (array([0, 1, 4], dtype=int64),)\n",
      "f (mean): 0.492448130592414\n",
      "g (border 1, inside 0): [[1. 1. 1. 1. 1.]\n",
      " [1. 0. 0. 0. 1.]\n",
      " [1. 0. 0. 0. 1.]\n",
      " [1. 0. 0. 0. 1.]\n",
      " [1. 1. 1. 1. 1.]]\n",
      "h (checkerboard): [[0 1 0 1 0 1 0 1]\n",
      " [1 0 1 0 1 0 1 0]\n",
      " [0 1 0 1 0 1 0 1]\n",
      " [1 0 1 0 1 0 1 0]\n",
      " [0 1 0 1 0 1 0 1]\n",
      " [1 0 1 0 1 0 1 0]\n",
      " [0 1 0 1 0 1 0 1]\n",
      " [1 0 1 0 1 0 1 0]]\n",
      "i (checkerboard using tile): [[0 1 0 1 0 1 0 1]\n",
      " [1 0 1 0 1 0 1 0]\n",
      " [0 1 0 1 0 1 0 1]\n",
      " [1 0 1 0 1 0 1 0]\n",
      " [0 1 0 1 0 1 0 1]\n",
      " [1 0 1 0 1 0 1 0]\n",
      " [0 1 0 1 0 1 0 1]\n",
      " [1 0 1 0 1 0 1 0]]\n",
      "j (negated elements): [ 0  1  2  3 -4 -5 -6 -7  8  9 10]\n",
      "k (sorted random vector): [0.13159565 0.19608021 0.22410262 0.33247915 0.4875969  0.53711003\n",
      " 0.54430453 0.55207295 0.76447447 0.77973944]\n",
      "l (are A and B equal?): False\n",
      "m (squared in-place): [ 0  1  4  9 16 25 36 49 64 81]\n",
      "n (diagonal of dot product): [ 18  66 132]\n"
     ]
    }
   ],
   "source": [
    "\n",
    "import numpy as np\n",
    "\n",
    "# a\n",
    "a = np.zeros(10)\n",
    "a[4] = 1\n",
    "print(\"a:\", a)\n",
    "\n",
    "# b\n",
    "b = np.arange(10, 50)\n",
    "print(\"b:\", b)\n",
    "\n",
    "# c\n",
    "c = b[::-1]\n",
    "print(\"c (reversed b):\", c)\n",
    "\n",
    "# d\n",
    "d = np.arange(9).reshape(3, 3)\n",
    "print(\"d:\", d)\n",
    "\n",
    "# e\n",
    "e = np.nonzero([1, 2, 0, 0, 4, 0])\n",
    "print(\"e (indices of non-zero elements):\", e)\n",
    "\n",
    "# f\n",
    "f = np.random.rand(30)\n",
    "mean_f = f.mean()\n",
    "print(\"f (mean):\", mean_f)\n",
    "\n",
    "# g\n",
    "g = np.ones((5,5))\n",
    "g[1:-1,1:-1] = 0\n",
    "print(\"g (border 1, inside 0):\", g)\n",
    "\n",
    "# h\n",
    "h = np.zeros((8,8),dtype=int)\n",
    "h[1::2,::2] = 1\n",
    "h[::2,1::2] = 1\n",
    "print(\"h (checkerboard):\", h)\n",
    "\n",
    "# i\n",
    "i = np.tile([[0,1],[1,0]],(4,4))\n",
    "print(\"i (checkerboard using tile):\", i)\n",
    "\n",
    "# j\n",
    "Z = np.arange(11)\n",
    "Z[(3 < Z) & (Z < 8)] *= -1\n",
    "print(\"j (negated elements):\", Z)\n",
    "\n",
    "# k\n",
    "k = np.random.random(10)\n",
    "k.sort()\n",
    "print(\"k (sorted random vector):\", k)\n",
    "\n",
    "# l\n",
    "A = np.random.randint(0,2,5)\n",
    "B = np.random.randint(0,2,5)\n",
    "equal = np.array_equal(A, B)\n",
    "print(\"l (are A and B equal?):\", equal)\n",
    "\n",
    "# m\n",
    "Z = np.arange(10, dtype=np.int32)\n",
    "Z **= 2\n",
    "print(\"m (squared in-place):\", Z)\n",
    "\n",
    "# n\n",
    "A = np.arange(9).reshape(3,3)\n",
    "B = A + 1\n",
    "C = np.dot(A,B)\n",
    "D = np.diag(C)\n",
    "print(\"n (diagonal of dot product):\", D)\n"
   ]
  },
  {
   "cell_type": "markdown",
   "id": "4dada7ea",
   "metadata": {},
   "source": [
    "# 3. Speed optimization using Numpy"
   ]
  },
  {
   "cell_type": "code",
   "execution_count": 3,
   "id": "26c8031c",
   "metadata": {},
   "outputs": [
    {
     "name": "stdout",
     "output_type": "stream",
     "text": [
      "Time taken for matrix multiplication with numpy: 0.10028433799743652 seconds\n"
     ]
    }
   ],
   "source": [
    "\n",
    "import numpy as np\n",
    "import time\n",
    "\n",
    "size = 500\n",
    "A = np.random.rand(size, size)\n",
    "B = np.random.rand(size, size)\n",
    "\n",
    "start = time.time()\n",
    "C = np.dot(A, B)\n",
    "end = time.time()\n",
    "print(\"Time taken for matrix multiplication with numpy:\", end - start, \"seconds\")\n"
   ]
  },
  {
   "cell_type": "markdown",
   "id": "e2762e2f",
   "metadata": {
    "notebookRunGroups": {
     "groupValue": "1"
    }
   },
   "source": [
    "# 4. MPI parallelization"
   ]
  },
  {
   "cell_type": "code",
   "execution_count": 10,
   "id": "88f77aeb",
   "metadata": {},
   "outputs": [
    {
     "name": "stdout",
     "output_type": "stream",
     "text": [
      "Hello from rank 0\n"
     ]
    }
   ],
   "source": [
    "\n",
    "\n",
    "# Save this as mpi_ranks.py\n",
    "from mpi4py import MPI\n",
    "\n",
    "comm = MPI.COMM_WORLD\n",
    "rank = comm.Get_rank()\n",
    "\n",
    "print(f\"Hello from rank {rank}\")\n"
   ]
  },
  {
   "cell_type": "code",
   "execution_count": 11,
   "id": "1aa08cce",
   "metadata": {},
   "outputs": [
    {
     "name": "stdout",
     "output_type": "stream",
     "text": [
      "The sum of all ranks is 0\n"
     ]
    }
   ],
   "source": [
    "\n",
    "# Save this as mpi_sum.py\n",
    "from mpi4py import MPI\n",
    "\n",
    "comm = MPI.COMM_WORLD\n",
    "rank = comm.Get_rank()\n",
    "\n",
    "data = rank\n",
    "total = comm.reduce(data, op=MPI.SUM, root=0)\n",
    "\n",
    "if rank == 0:\n",
    "    print(f\"The sum of all ranks is {total}\")\n"
   ]
  },
  {
   "cell_type": "markdown",
   "id": "0b7ff199",
   "metadata": {},
   "source": [
    "# 5. GPU Computing (Colab required)"
   ]
  },
  {
   "cell_type": "markdown",
   "id": "d642780f",
   "metadata": {},
   "source": [
    "\n",
    "Run this section in Google Colab after enabling GPU:\n",
    "\n",
    "```python\n",
    "!nvidia-smi\n",
    "\n",
    "import numpy as np\n",
    "import cupy as cp\n",
    "\n",
    "sizes = [128, 256, 512, 1024, 2048]\n",
    "for size in sizes:\n",
    "    np_array = np.random.rand(size, size)\n",
    "    cp_array = cp.random.rand(size, size)\n",
    "    print(f\"Size: {size}x{size}\")\n",
    "    %timeit np.fft.fft2(np_array)\n",
    "    %timeit cp.fft.fft2(cp_array)\n",
    "\n",
    "# Now test with dtype float32\n",
    "for size in sizes:\n",
    "    np_array = np.random.rand(size, size).astype(np.float32)\n",
    "    cp_array = cp.random.rand(size, size).astype(cp.float32)\n",
    "    print(f\"Size (float32): {size}x{size}\")\n",
    "    %timeit np.fft.fft2(np_array)\n",
    "    %timeit cp.fft.fft2(cp_array)\n",
    "```\n"
   ]
  }
 ],
 "metadata": {
  "kernelspec": {
   "display_name": "base",
   "language": "python",
   "name": "python3"
  },
  "language_info": {
   "codemirror_mode": {
    "name": "ipython",
    "version": 3
   },
   "file_extension": ".py",
   "mimetype": "text/x-python",
   "name": "python",
   "nbconvert_exporter": "python",
   "pygments_lexer": "ipython3",
   "version": "3.11.7"
  }
 },
 "nbformat": 4,
 "nbformat_minor": 5
}
